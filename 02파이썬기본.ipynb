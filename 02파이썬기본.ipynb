{
 "cells": [
  {
   "cell_type": "code",
   "execution_count": null,
   "id": "1ca6cfbf-de36-4c5e-b8de-05cb24a352fa",
   "metadata": {
    "tags": []
   },
   "outputs": [],
   "source": [
    "집 보내줘"
   ]
  },
  {
   "cell_type": "code",
   "execution_count": 5,
   "id": "296f9078-5a94-4072-b088-d1f31dd980a0",
   "metadata": {},
   "outputs": [],
   "source": [
    "#주석 사용하기\n",
    "x=1 # 우측변의 리터럴을 좌변의 파라미터에 대입하는 것\n",
    "text=\"# 이것은 주석이 아닙니다. 따옴표 안은 문자열 리터럴입니다.\""
   ]
  },
  {
   "cell_type": "code",
   "execution_count": 7,
   "id": "c954b98f-bf5b-46d9-ade3-2dfadf6325e8",
   "metadata": {},
   "outputs": [
    {
     "name": "stdout",
     "output_type": "stream",
     "text": [
      "1\n"
     ]
    }
   ],
   "source": [
    "print(x)"
   ]
  },
  {
   "cell_type": "code",
   "execution_count": 8,
   "id": "97a3749c-83a5-4f6e-98d8-63d2c8f9661a",
   "metadata": {},
   "outputs": [
    {
     "name": "stdout",
     "output_type": "stream",
     "text": [
      "# 이것은 주석이 아닙니다. 따옴표 안은 문자열 리터럴입니다.\n"
     ]
    }
   ],
   "source": [
    "print(text)"
   ]
  },
  {
   "cell_type": "code",
   "execution_count": 9,
   "id": "b03797d6-224a-466f-a5a6-9db13a94aa72",
   "metadata": {},
   "outputs": [
    {
     "name": "stdout",
     "output_type": "stream",
     "text": [
      "Hello, world!\n",
      "Hello, world!\n",
      "Python Programming\n"
     ]
    }
   ],
   "source": [
    "y=\"Hello, world!\"\n",
    "print(y)\n",
    "print(y)\n",
    "print(\"Python Programming\")"
   ]
  },
  {
   "cell_type": "code",
   "execution_count": 10,
   "id": "5ba1ac52-e959-4eeb-a186-27cdb52efb7b",
   "metadata": {},
   "outputs": [
    {
     "data": {
      "text/plain": [
       "89"
      ]
     },
     "execution_count": 10,
     "metadata": {},
     "output_type": "execute_result"
    }
   ],
   "source": [
    "13 + (22-3) * 4"
   ]
  },
  {
   "cell_type": "code",
   "execution_count": 11,
   "id": "4befcbb5-63bd-4759-aa9d-e28caaba5335",
   "metadata": {},
   "outputs": [
    {
     "data": {
      "text/plain": [
       "28.2"
      ]
     },
     "execution_count": 11,
     "metadata": {},
     "output_type": "execute_result"
    }
   ],
   "source": [
    "13 + ((22-3)*4)/5"
   ]
  },
  {
   "cell_type": "code",
   "execution_count": 12,
   "id": "a9bb8f4b-1ced-46af-b436-239e54702fb3",
   "metadata": {},
   "outputs": [
    {
     "data": {
      "text/plain": [
       "3"
      ]
     },
     "execution_count": 12,
     "metadata": {},
     "output_type": "execute_result"
    }
   ],
   "source": [
    "#몫 구하기\n",
    "7//2"
   ]
  },
  {
   "cell_type": "code",
   "execution_count": 13,
   "id": "aa9931f8-4a23-400f-b68e-4d6a3ba7b233",
   "metadata": {},
   "outputs": [
    {
     "data": {
      "text/plain": [
       "1"
      ]
     },
     "execution_count": 13,
     "metadata": {},
     "output_type": "execute_result"
    }
   ],
   "source": [
    "#나머지 구하기\n",
    "3%2"
   ]
  },
  {
   "cell_type": "code",
   "execution_count": 14,
   "id": "801e83fd-5e46-4baa-b92f-fff6d9e4e209",
   "metadata": {},
   "outputs": [
    {
     "data": {
      "text/plain": [
       "128"
      ]
     },
     "execution_count": 14,
     "metadata": {},
     "output_type": "execute_result"
    }
   ],
   "source": [
    "#거듭제곱 구하기\n",
    "2**7"
   ]
  },
  {
   "cell_type": "code",
   "execution_count": 18,
   "id": "8903a366-0375-44a4-862d-f14a54d334c4",
   "metadata": {},
   "outputs": [
    {
     "data": {
      "text/plain": [
       "1.7320508075688772"
      ]
     },
     "execution_count": 18,
     "metadata": {},
     "output_type": "execute_result"
    }
   ],
   "source": [
    "#제곱근\n",
    "3**(1/2)"
   ]
  },
  {
   "cell_type": "code",
   "execution_count": 21,
   "id": "f23864ed-37e0-40e1-b7c7-10a3e0f462b7",
   "metadata": {},
   "outputs": [],
   "source": [
    "#복소수 표현\n",
    "a= 2 + 3j\n",
    "b=complex(3,-4)"
   ]
  },
  {
   "cell_type": "code",
   "execution_count": 22,
   "id": "ab1e3de7-cbfa-45ad-ab76-763785946f72",
   "metadata": {},
   "outputs": [
    {
     "data": {
      "text/plain": [
       "2.0"
      ]
     },
     "execution_count": 22,
     "metadata": {},
     "output_type": "execute_result"
    }
   ],
   "source": [
    "#복소수의 정수부분\n",
    "a.real"
   ]
  },
  {
   "cell_type": "code",
   "execution_count": 23,
   "id": "f1d3699f-1654-49d2-8a26-f1a8b2df289f",
   "metadata": {},
   "outputs": [
    {
     "data": {
      "text/plain": [
       "3"
      ]
     },
     "execution_count": 23,
     "metadata": {},
     "output_type": "execute_result"
    }
   ],
   "source": [
    "#실수를 정수로 변환\n",
    "int(3.3)\n",
    "int(5/2)"
   ]
  },
  {
   "cell_type": "code",
   "execution_count": 26,
   "id": "438804fc-4d72-4b30-ac1f-c16c0b1b0027",
   "metadata": {},
   "outputs": [
    {
     "data": {
      "text/plain": [
       "104"
      ]
     },
     "execution_count": 26,
     "metadata": {},
     "output_type": "execute_result"
    }
   ],
   "source": [
    "#문자열을 정수로 변환\n",
    "int('104')"
   ]
  },
  {
   "cell_type": "code",
   "execution_count": 27,
   "id": "b93ad97c-4f49-4dd6-a525-7a2ed4ee8208",
   "metadata": {},
   "outputs": [
    {
     "data": {
      "text/plain": [
       "16.0"
      ]
     },
     "execution_count": 27,
     "metadata": {},
     "output_type": "execute_result"
    }
   ],
   "source": [
    "#정수를 실수로 변환\n",
    "float(3)\n",
    "float(4*4)"
   ]
  },
  {
   "cell_type": "code",
   "execution_count": 28,
   "id": "48531f9a-2c22-44f7-8ee7-ff770711d1e9",
   "metadata": {},
   "outputs": [
    {
     "data": {
      "text/plain": [
       "3.14"
      ]
     },
     "execution_count": 28,
     "metadata": {},
     "output_type": "execute_result"
    }
   ],
   "source": [
    "#문자열을 실수로 변환\n",
    "float('3.14')"
   ]
  },
  {
   "cell_type": "code",
   "execution_count": 31,
   "id": "59f02c8d-ebf0-4306-ac5e-b5cd447381b7",
   "metadata": {},
   "outputs": [
    {
     "name": "stdout",
     "output_type": "stream",
     "text": [
      "가장 시끄러운 층은 =  7 층\n"
     ]
    }
   ],
   "source": [
    "m=12\n",
    "noisy = int(0.2467*m+4.159)\n",
    "print(\"가장 시끄러운 층은 = \", noisy, \"층\")"
   ]
  },
  {
   "cell_type": "code",
   "execution_count": 33,
   "id": "b436e0dd-abc8-420e-80fd-68b8bc8f2e22",
   "metadata": {},
   "outputs": [
    {
     "name": "stdout",
     "output_type": "stream",
     "text": [
      "냉장고 가격은 1272000 원 입니다.\n"
     ]
    }
   ],
   "source": [
    "fridge = 53000*24\n",
    "print(\"냉장고 가격은\", fridge, \"원 입니다.\")"
   ]
  },
  {
   "cell_type": "code",
   "execution_count": 38,
   "id": "1a4c878a-f2f5-42a7-868f-06cbba49d8fc",
   "metadata": {},
   "outputs": [
    {
     "name": "stdout",
     "output_type": "stream",
     "text": [
      "총 지불해야 할 금액은 16500000 원 입니다.\n"
     ]
    }
   ],
   "source": [
    "people = 250\n",
    "tax= 0.1\n",
    "book_price = 20000*3*people*(1+tax)\n",
    "print(\"총 지불해야 할 금액은\", int(book_price), \"원 입니다.\")"
   ]
  },
  {
   "cell_type": "code",
   "execution_count": 40,
   "id": "2527360f-294c-4ace-a42a-bf80f18cef9d",
   "metadata": {},
   "outputs": [
    {
     "data": {
      "text/plain": [
       "0.0012345"
      ]
     },
     "execution_count": 40,
     "metadata": {},
     "output_type": "execute_result"
    }
   ],
   "source": [
    "#10진법표기\n",
    "1.2345e10\n",
    "1.2345e-3"
   ]
  },
  {
   "cell_type": "code",
   "execution_count": 42,
   "id": "c3f29619-1647-4c9d-ad78-f973bb69db31",
   "metadata": {},
   "outputs": [
    {
     "data": {
      "text/plain": [
       "22"
      ]
     },
     "execution_count": 42,
     "metadata": {},
     "output_type": "execute_result"
    }
   ],
   "source": [
    "#2진법표기\n",
    "0b10001\n",
    "0b10110"
   ]
  },
  {
   "cell_type": "code",
   "execution_count": 44,
   "id": "2eb81974-7a65-4fb5-a477-7284dc03fcdf",
   "metadata": {},
   "outputs": [
    {
     "data": {
      "text/plain": [
       "'0b10110'"
      ]
     },
     "execution_count": 44,
     "metadata": {},
     "output_type": "execute_result"
    }
   ],
   "source": [
    "#2진법으로 표현하는방법\n",
    "bin(17)\n",
    "bin(22)"
   ]
  },
  {
   "cell_type": "code",
   "execution_count": 45,
   "id": "212604d5-838a-48fb-9015-8296a9a60942",
   "metadata": {},
   "outputs": [
    {
     "data": {
      "text/plain": [
       "31"
      ]
     },
     "execution_count": 45,
     "metadata": {},
     "output_type": "execute_result"
    }
   ],
   "source": [
    "#16진수표기\n",
    "0x1f"
   ]
  },
  {
   "cell_type": "code",
   "execution_count": 46,
   "id": "f70fcd61-ec03-401f-8f2c-e8a36dfbecfa",
   "metadata": {},
   "outputs": [
    {
     "data": {
      "text/plain": [
       "'0x1f'"
      ]
     },
     "execution_count": 46,
     "metadata": {},
     "output_type": "execute_result"
    }
   ],
   "source": [
    "#16진법으로 표현하는 방법\n",
    "hex(31)"
   ]
  },
  {
   "cell_type": "code",
   "execution_count": 47,
   "id": "0c77c39d-dfe1-4e74-beb2-51ced9b01aae",
   "metadata": {},
   "outputs": [
    {
     "data": {
      "text/plain": [
       "453.0"
      ]
     },
     "execution_count": 47,
     "metadata": {},
     "output_type": "execute_result"
    }
   ],
   "source": [
    "AP = 380\n",
    "AP*0.6+225"
   ]
  },
  {
   "cell_type": "code",
   "execution_count": 48,
   "id": "70b85f08-7fd4-44dd-8933-c162e0fa5c3c",
   "metadata": {},
   "outputs": [
    {
     "name": "stdout",
     "output_type": "stream",
     "text": [
      "30\n"
     ]
    }
   ],
   "source": [
    "# a 변수 선언 후 숫자 리터럴 10 값을 할당\n",
    "a = 10\n",
    "#a 변수값에 20을 더한 결과를 다시 a에 할당\n",
    "a = a + 20\n",
    "\n",
    "print(a)"
   ]
  },
  {
   "cell_type": "code",
   "execution_count": 49,
   "id": "763819d4-56e5-4139-b452-76f8970840b9",
   "metadata": {},
   "outputs": [
    {
     "ename": "NameError",
     "evalue": "name 'a' is not defined",
     "output_type": "error",
     "traceback": [
      "\u001b[1;31m---------------------------------------------------------------------------\u001b[0m",
      "\u001b[1;31mNameError\u001b[0m                                 Traceback (most recent call last)",
      "\u001b[1;32m~\\AppData\\Local\\Temp\\ipykernel_9180\\1497285116.py\u001b[0m in \u001b[0;36m<module>\u001b[1;34m\u001b[0m\n\u001b[0;32m      1\u001b[0m \u001b[1;32mdel\u001b[0m \u001b[0ma\u001b[0m\u001b[1;33m\u001b[0m\u001b[1;33m\u001b[0m\u001b[0m\n\u001b[1;32m----> 2\u001b[1;33m \u001b[0mprint\u001b[0m\u001b[1;33m(\u001b[0m\u001b[0ma\u001b[0m\u001b[1;33m)\u001b[0m\u001b[1;33m\u001b[0m\u001b[1;33m\u001b[0m\u001b[0m\n\u001b[0m",
      "\u001b[1;31mNameError\u001b[0m: name 'a' is not defined"
     ]
    }
   ],
   "source": [
    "# a 변수 삭제 후 a 변수를 출력하면 출력 불가\n",
    "del a\n",
    "print(a)"
   ]
  },
  {
   "cell_type": "code",
   "execution_count": 50,
   "id": "8b35b27e-b333-4060-8ae7-a6c299f3e149",
   "metadata": {},
   "outputs": [
    {
     "name": "stdout",
     "output_type": "stream",
     "text": [
      "10\n",
      "20\n"
     ]
    }
   ],
   "source": [
    "a=10\n",
    "\n",
    "#변수 a에 20값을 더하고 할당하지 않았을때\n",
    "a + 20\n",
    "print(a)\n",
    "\n",
    "a +=10 # a = a+10 과 같다\n",
    "print(a)"
   ]
  },
  {
   "cell_type": "code",
   "execution_count": 51,
   "id": "64299b86-4d03-4807-a20f-672a3923ec33",
   "metadata": {},
   "outputs": [
    {
     "name": "stdout",
     "output_type": "stream",
     "text": [
      "None\n"
     ]
    }
   ],
   "source": [
    "#변수에 빈값 할당하기 None은 다른 언어에서의 null과 같음\n",
    "a = None\n",
    "print(a)"
   ]
  },
  {
   "cell_type": "code",
   "execution_count": 59,
   "id": "b922596c-056e-43c0-b99e-6fc4d80f61bf",
   "metadata": {},
   "outputs": [
    {
     "name": "stdout",
     "output_type": "stream",
     "text": [
      "\"안녕?\"이라는 그 인사를 듣고 나는 '누구지?'라고 생각했다.\n"
     ]
    }
   ],
   "source": [
    "#따옴표 안에 따옴표 넣기 \n",
    "print(\"\\\"안녕?\\\"이라는 그 인사를 듣고 나는 '누구지?'라고 생각했다.\")"
   ]
  },
  {
   "cell_type": "code",
   "execution_count": null,
   "id": "f9497394-2231-405c-b31e-fbe117601f55",
   "metadata": {},
   "outputs": [],
   "source": []
  },
  {
   "cell_type": "code",
   "execution_count": null,
   "id": "beb12139-bbec-41c0-805d-89bc2e009cb3",
   "metadata": {},
   "outputs": [],
   "source": []
  }
 ],
 "metadata": {
  "kernelspec": {
   "display_name": "Python 3 (ipykernel)",
   "language": "python",
   "name": "python3"
  },
  "language_info": {
   "codemirror_mode": {
    "name": "ipython",
    "version": 3
   },
   "file_extension": ".py",
   "mimetype": "text/x-python",
   "name": "python",
   "nbconvert_exporter": "python",
   "pygments_lexer": "ipython3",
   "version": "3.9.16"
  }
 },
 "nbformat": 4,
 "nbformat_minor": 5
}
